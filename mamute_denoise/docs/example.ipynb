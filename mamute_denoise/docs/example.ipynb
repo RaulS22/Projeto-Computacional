{
<<<<<<< HEAD
 "cells": [
  {
   "cell_type": "markdown",
   "metadata": {},
   "source": [
    "# Example usage\n",
    "\n",
    "To use `mamute_denoise` in a project:"
   ]
  },
  {
   "cell_type": "code",
   "execution_count": null,
   "metadata": {},
   "outputs": [],
   "source": [
    "import mamute_denoise\n",
    "\n",
    "print(mamute_denoise.__version__)"
   ]
  },
  {
   "cell_type": "markdown",
   "metadata": {},
   "source": [
    "# Other examples of usage\n",
    "This can also be used in codes that"
   ]
  },
  {
   "cell_type": "code",
   "execution_count": null,
   "metadata": {},
   "outputs": [],
   "source": []
  }
 ],
 "metadata": {
  "kernelspec": {
   "display_name": "Python 3",
   "language": "python",
   "name": "python3"
  },
  "language_info": {
   "codemirror_mode": {
    "name": "ipython",
    "version": 3
   },
   "file_extension": ".py",
   "mimetype": "text/x-python",
   "name": "python",
   "nbconvert_exporter": "python",
   "pygments_lexer": "ipython3",
   "version": "3.8.10"
  }
 },
 "nbformat": 4,
 "nbformat_minor": 4
=======
    "cells": [
        {
            "cell_type": "markdown",
            "metadata": {},
            "source": [
                "# Example usage\n",
                "\n",
                "To use `mamute_denoise` in a project:"
            ]
        },
        {
            "cell_type": "code",
            "execution_count": null,
            "metadata": {},
            "outputs": [],
            "source": [
                "import mamute_denoise\n",
                "\n",
                "print(mamute_denoise.__version__)"
            ]
        },
        {
            "cell_type": "markdown",
            "metadata": {},
            "source": [
                "### Data processing: ###"
            ]
        },
        {
            "cell_type": "markdown",
            "metadata": {},
            "source": [
                "Start a data_denoise type object:"
            ]
        },
        {
            "cell_type": "code",
            "execution_count": null,
            "metadata": {},
            "outputs": [],
            "source": [
                "y = np.array([1.0, 5.4, 6.7, 4.5, 3.2, 0.5, 0.3]) # sample time serie\n",
                "\n",
                "treat_y = mamute_denoise.data_denoise(y)"
            ]
        },
        {
            "cell_type": "markdown",
            "metadata": {},
            "source": [
                "Using 1D multilevel wavelet transform:"
            ]
        },
        {
            "cell_type": "code",
            "execution_count": null,
            "metadata": {},
            "outputs": [],
            "source": [
                "treat_y.wavelet_transform_1D(0.7) # 0.7 - arbitrary threshold value \n",
                "\n",
                "treated_y = treat_y.denoised_signal # treated time serie"
            ]
        },
        {
            "cell_type": "markdown",
            "metadata": {},
            "source": [
                "Using the noise reduce library:"
            ]
        },
        {
            "cell_type": "code",
            "execution_count": null,
            "metadata": {},
            "outputs": [],
            "source": [
                "treat_y.noise_reduce()\n",
                "\n",
                "treated_y = treat_y.denoised_signal"
            ]
        },
        {
            "cell_type": "markdown",
            "metadata": {},
            "source": [
                "### Audio signal processing: ###"
            ]
        },
        {
            "cell_type": "markdown",
            "metadata": {},
            "source": [
                "Start a audio_denoise type object:"
            ]
        },
        {
            "cell_type": "code",
            "execution_count": null,
            "metadata": {},
            "outputs": [],
            "source": [
                "audio_path = 'your_audio.wav' \n",
                "\n",
                "treat_audio = mamute_denoise.audio_denoise(audio_path)"
            ]
        },
        {
            "cell_type": "markdown",
            "metadata": {},
            "source": [
                "Using noise_reduce with a calculated noise filter:"
            ]
        },
        {
            "cell_type": "code",
            "execution_count": null,
            "metadata": {},
            "outputs": [],
            "source": [
                "treat_audio.noise_reduce()\n",
                "\n",
                "treat_audio.audio_write() # writes an audio named \"nr_your_audio.wav\""
            ]
        },
        {
            "cell_type": "markdown",
            "metadata": {},
            "source": [
                "Using noise_reduce with a provided noise profile:"
            ]
        },
        {
            "cell_type": "code",
            "execution_count": null,
            "metadata": {},
            "outputs": [],
            "source": [
                "# instead of the commom object start, use:\n",
                "\n",
                "audio_path = 'your_audio.wav' \n",
                "\n",
                "noise_path = 'your_noise.wav'\n",
                "\n",
                "treat_audio = mamute_denoise.audio_denoise(audio_path, noise_file_path = noise_path)\n",
                "\n",
                "# and use the noise_reduce function as shown before:\n",
                "\n",
                "treat_audio.noise_reduce()\n",
                "\n",
                "treat_audio.audio_write() # writes an audio named \"nr_your_audio.wav\""
            ]
        },
        {
            "cell_type": "markdown",
            "metadata": {},
            "source": [
                "Using the wavelet transform on a audio file:"
            ]
        },
        {
            "cell_type": "code",
            "execution_count": null,
            "metadata": {},
            "outputs": [],
            "source": [
                "treat_audio.wavelet_transform_1D(0.7) # 0.7 - arbitrary threshold value \n",
                "\n",
                "treat_audio.audio_write() # writes an audio named \"wavelet_your_audio.wav\""
            ]
        }
    ],
    "metadata": {
        "kernelspec": {
            "display_name": "Python 3",
            "language": "python",
            "name": "python3"
        },
        "language_info": {
            "codemirror_mode": {
                "name": "ipython",
                "version": 3
            },
            "file_extension": ".py",
            "mimetype": "text/x-python",
            "name": "python",
            "nbconvert_exporter": "python",
            "pygments_lexer": "ipython3",
            "version": "3.8.5"
        }
    },
    "nbformat": 4,
    "nbformat_minor": 4
>>>>>>> 25cee68cadca14b45d8fa5438e15241471e9b540
}
