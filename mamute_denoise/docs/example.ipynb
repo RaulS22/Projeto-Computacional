{
 "cells": [
  {
   "cell_type": "markdown",
   "metadata": {},
   "source": [
    "# Example usage\n",
    "\n",
    "To use `mamute_denoise` in a project:"
   ]
  },
  {
   "cell_type": "code",
   "execution_count": null,
   "metadata": {},
   "outputs": [],
   "source": [
    "import mamute_denoise\n",
    "\n",
    "print(mamute_denoise.__version__)"
   ]
  },
  {
   "cell_type": "markdown",
   "metadata": {},
   "source": [
    "## Data processing: "
   ]
  },
  {
   "cell_type": "markdown",
   "metadata": {},
   "source": [
    "Start a data_denoise type object:"
   ]
  },
  {
   "cell_type": "code",
   "execution_count": null,
   "metadata": {},
   "outputs": [],
   "source": [
    "y = np.array([1.0, 5.4, 6.7, 4.5, 3.2, 0.5, 0.3]) # sample time serie\n",
    "\n",
    "treat_y = mamute_denoise.data_denoise(y)"
   ]
  },
  {
   "cell_type": "markdown",
   "metadata": {},
   "source": [
    "### Using 1D multilevel wavelet transform:"
   ]
  },
  {
   "cell_type": "code",
   "execution_count": null,
   "metadata": {},
   "outputs": [],
   "source": [
    "treat_y.wavelet_transform_1D(0.7) # 0.7 - arbitrary threshold value \n",
    "\n",
    "treated_y = treat_y.denoised_signal # treated time serie"
   ]
  },
  {
   "cell_type": "markdown",
   "metadata": {},
   "source": [
    "### Using the noise reduce library:"
   ]
  },
  {
   "cell_type": "code",
   "execution_count": null,
   "metadata": {},
   "outputs": [],
   "source": [
    "treat_y.noise_reduce()\n",
    "\n",
    "treated_y = treat_y.denoised_signal"
   ]
  },
  {
   "cell_type": "markdown",
   "metadata": {},
   "source": [
    "### Using Fast Fourier Transform:"
   ]
  },
  {
   "cell_type": "code",
   "execution_count": null,
   "metadata": {},
   "outputs": [],
   "source": [
    "treat_y.fourier_transform()\n",
    "treated_y = treat_y.denoised_signal"
   ]
  },
  {
   "cell_type": "markdown",
   "metadata": {},
   "source": [
    "## Audio signal processing: "
   ]
  },
  {
   "cell_type": "markdown",
   "metadata": {},
   "source": [
    "### Using noise_reduce with a calculated noise filter:"
   ]
  },
  {
   "cell_type": "markdown",
   "metadata": {},
   "source": [
    "Start a audio_denoise type object:"
   ]
  },
  {
   "cell_type": "code",
   "execution_count": null,
   "metadata": {},
   "outputs": [],
   "source": [
    "audio_path = 'your_audio.wav' \n",
    "\n",
    "treat_audio = mamute_denoise.audio_denoise(audio_path)"
   ]
  },
  {
   "cell_type": "code",
   "execution_count": null,
   "metadata": {},
   "outputs": [],
   "source": [
    "treat_audio.noise_reduce()\n",
    "\n",
    "treat_audio.audio_write() # writes an audio named \"nr_your_audio.wav\""
   ]
  },
  {
   "cell_type": "markdown",
   "metadata": {},
   "source": [
    "### Using noise_reduce with a provided noise profile:"
   ]
  },
  {
   "cell_type": "code",
   "execution_count": null,
   "metadata": {},
   "outputs": [],
   "source": [
    "# instead of the commom object start, use:\n",
    "\n",
    "audio_path = 'your_audio.wav' \n",
    "\n",
    "noise_path = 'your_noise.wav'\n",
    "\n",
    "treat_audio = mamute_denoise.audio_denoise(audio_path, noise_file_path = noise_path)\n",
    "\n",
    "# and use the noise_reduce function as shown before:\n",
    "\n",
    "treat_audio.noise_reduce()\n",
    "\n",
    "treat_audio.audio_write() # writes an audio named \"nr_your_audio.wav\""
   ]
  },
  {
   "cell_type": "markdown",
   "metadata": {},
   "source": [
    "### Using the wavelet transform on a audio file:"
   ]
  },
  {
   "cell_type": "code",
   "execution_count": null,
   "metadata": {},
   "outputs": [],
   "source": [
    "treat_audio.wavelet_transform_1D(0.7) # 0.7 - arbitrary threshold value \n",
    "\n",
    "treat_audio.audio_write() # writes an audio named \"wavelet_your_audio.wav\""
   ]
  },
  {
   "cell_type": "markdown",
   "metadata": {},
   "source": [
    "### Using FFT on an audio file:"
   ]
  },
  {
   "cell_type": "markdown",
   "metadata": {},
   "source": [
    "*Behind the code:* &nbsp;\n",
    "\n",
    "You have a signal that is function of time $signal = f(t)$ &nbsp;\n",
    "\n",
    "Then, it will be transformed to the frequency domain $ f(t) \\Rightarrow FFT \\Rightarrow F(\\omega) $ &nbsp;\n",
    "\n",
    "Then, a Wiener filter will be applied in the function to evaluate what is noise and what don't &nbsp;\n",
    "\n",
    "Finally, after some math, an inverse FFT will be performed on the treated signal &nbsp;\n",
    "\n",
    "$F(\\omega) \\Rightarrow filtering-processing \\Rightarrow F(\\omega)_{denoised} \\Rightarrow iFFT \\Rightarrow f(t)_{denoised} $"
   ]
  },
  {
   "cell_type": "code",
   "execution_count": null,
   "metadata": {},
   "outputs": [],
   "source": [
    "audio_path = your_audio.wav\n",
    "treated_audio = mamute_denoise.audio_denoise(audio_path)\n",
    "\n",
    "treated_audio.fourier_transform()\n",
    "treated_audio.audio_write()"
   ]
  },
  {
   "cell_type": "markdown",
   "metadata": {},
   "source": [
    "Warning: some transforms may not work as well as others. This depends on your audio file and how much you want to denoise."
   ]
  },
  {
   "cell_type": "markdown",
   "metadata": {},
   "source": [
    "## Add_noise"
   ]
  },
  {
   "cell_type": "markdown",
   "metadata": {},
   "source": [
    "The usage of add_noise may be more convenient to audio files. Some usages may apply to ML, but this wasn't the focus of our project. &nbsp;"
   ]
  },
  {
   "cell_type": "markdown",
   "metadata": {},
   "source": [
    "*Behind the code:*\n",
    "\n",
    "$audio_{1}$ and $audio_{2}$ files will be loaded &nbsp;\n",
    "The lenght of the audios will be compared. The length of the overlayed audio will be the lenght ot the bigger one."
   ]
  },
  {
   "cell_type": "code",
   "execution_count": 1,
   "metadata": {},
   "outputs": [],
   "source": [
    "audio1_file = \"audio_1_name.wav\"\n",
    "audio2_file = \"audio_2_name.wav\"\n",
    "overlayed_file = \"desired_overlayed_audio_name.wav\" #If none is provided, 'overlayed.wav' will be the name\n",
    "\n",
    "overlay_wav_files(audio1_file, audio2_file, overlayed_file)"
   ]
  },
  {
   "cell_type": "markdown",
   "metadata": {},
   "source": [
    "## Ploting graphs\n",
    "\n",
    "Ploting the original data and the denoised one can be useful in many situations. In this code, we have simple forms of ploting these graphs that may come in handy."
   ]
  },
  {
   "cell_type": "code",
   "execution_count": null,
   "metadata": {},
   "outputs": [],
   "source": [
    "audio_file = 'sem-título-noise.wav'\n",
    "denoising = audio_denoise(audio_file)               \n",
    "denoising.wavelet_transform_1D(threshold=0.1)       \n",
    "denoising.plot_denoising(comp=True, sep=True)       \n",
    "denoising.audio_write()"
   ]
  }
 ],
 "metadata": {
  "kernelspec": {
   "display_name": "Python 3",
   "language": "python",
   "name": "python3"
  }
 },
 "nbformat": 4,
 "nbformat_minor": 4
}
