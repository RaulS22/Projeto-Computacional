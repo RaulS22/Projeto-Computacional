{
 "cells": [
  {
   "cell_type": "markdown",
   "id": "0fe1fc37",
   "metadata": {},
   "source": [
    "# An example of usage "
   ]
  },
  {
   "cell_type": "markdown",
   "id": "91b0b44b",
   "metadata": {},
   "source": [
    "Supose you have an audio file and you want to plot the original audio, the denoised and the comparison of them."
   ]
  },
  {
   "cell_type": "code",
   "execution_count": null,
   "id": "d6d60616",
   "metadata": {},
   "outputs": [],
   "source": [
    "<audio width=\" \" height=\" \"\n",
    "       src=\"sem-título-noise.wav\"  \n",
    "       controls>\n",
    "</audio>"
   ]
  },
  {
   "cell_type": "code",
   "execution_count": null,
   "id": "0d45943a",
   "metadata": {},
   "outputs": [],
   "source": [
    "import mamute_denoise\n",
    "\n",
    "audio_file = 'sem-título-noise.wav'\n",
    "denoising = audio_denoise(audio_file)               \n",
    "denoising.wavelet_transform_1D(threshold=0.1)       \n",
    "denoising.plot_denoising(comp=True, sep=True)       \n",
    "denoising.audio_write()"
   ]
  },
  {
   "cell_type": "markdown",
   "id": "d94a0d94",
   "metadata": {},
   "source": [
    "If you want to combine two audio files (even if they have different lengths)."
   ]
  },
  {
   "cell_type": "code",
   "execution_count": null,
   "id": "dc15691c",
   "metadata": {},
   "outputs": [],
   "source": [
    "<audio width=\" \" height=\" \"\n",
    "       src=\"New Recording 5.wav\"  \n",
    "       controls>\n",
    "</audio>"
   ]
  },
  {
   "cell_type": "code",
   "execution_count": null,
   "id": "9e9943cf",
   "metadata": {},
   "outputs": [],
   "source": [
    "<audio width=\" \" height=\" \"\n",
    "       src=\"sample-1.wav\"  \n",
    "       controls>\n",
    "</audio>"
   ]
  },
  {
   "cell_type": "code",
   "execution_count": null,
   "id": "9bce47fc",
   "metadata": {},
   "outputs": [],
   "source": [
    "import mamute_denoise\n",
    "\n",
    "audio1_file = \"New Recording 5.wav\"\n",
    "audio2_file = \"sample-1.wav\"\n",
    "overlayed_file = \"overlayed_test.wav\"\n",
    "\n",
    "overlay_wav_files(audio1_file, audio2_file, overlayed_file)"
   ]
  },
  {
   "cell_type": "code",
   "execution_count": null,
   "id": "a15e6cae",
   "metadata": {},
   "outputs": [],
   "source": [
    "<audio width=\" \" height=\" \"\n",
    "       src=\"overlayed_test.wav\"  \n",
    "       controls>\n",
    "</audio>"
   ]
  },
  {
   "cell_type": "markdown",
   "id": "eec0e930",
   "metadata": {},
   "source": [
    "Now, you may want to use both noisereduce and Fourier Transform in the same audio to check wich one performed a better denoising effect."
   ]
  },
  {
   "cell_type": "code",
   "execution_count": null,
   "id": "da8a2ca0",
   "metadata": {},
   "outputs": [],
   "source": [
    "<audio width=\" \" height=\" \"\n",
    "       src=\"noisy-sample-1.wav\"  \n",
    "       controls>\n",
    "</audio>"
   ]
  },
  {
   "cell_type": "code",
   "execution_count": null,
   "id": "fe28c048",
   "metadata": {},
   "outputs": [],
   "source": [
    "import mamute_denoise\n",
    "audio_file = 'noisy-sample-1.wav'\n",
    "denoising = audio_denoise(audio_file)\n",
    "\n",
    "denoising.fourier_transform()\n",
    "denoising.audio_write()\n",
    "\n",
    "denoising.noise_reduce()\n",
    "denoising.audio_write()"
   ]
  },
  {
   "cell_type": "code",
   "execution_count": null,
   "id": "d52af00a",
   "metadata": {},
   "outputs": [],
   "source": [
    "<audio width=\" \" height=\" \"\n",
    "       src=\"fourier_noisy-sample-1.wav\"  \n",
    "       controls>\n",
    "</audio>"
   ]
  },
  {
   "cell_type": "code",
   "execution_count": null,
   "id": "794ec45b",
   "metadata": {},
   "outputs": [],
   "source": [
    "<audio width=\" \" height=\" \"\n",
    "       src=\"nr_noisy-sample-1.wav\"  \n",
    "       controls>\n",
    "</audio>"
   ]
  },
  {
   "cell_type": "markdown",
   "id": "416c7fb3",
   "metadata": {},
   "source": [
    "Finally, if you have the noise and the noisy audio"
   ]
  },
  {
   "cell_type": "code",
   "execution_count": null,
   "id": "f48d0374",
   "metadata": {},
   "outputs": [],
   "source": [
    "<audio width=\" \" height=\" \"\n",
    "       src=\"noisy-sample-1.wav\"  \n",
    "       controls>\n",
    "</audio>"
   ]
  },
  {
   "cell_type": "code",
   "execution_count": null,
   "id": "d5a827d5",
   "metadata": {},
   "outputs": [],
   "source": [
    "<audio width=\" \" height=\" \"\n",
    "       src=\"noise-sample-1.wav\"  \n",
    "       controls>\n",
    "</audio>"
   ]
  },
  {
   "cell_type": "code",
   "execution_count": null,
   "id": "538fb30d",
   "metadata": {},
   "outputs": [],
   "source": [
    "audio_path = 'noisy-sample-1.wav' \n",
    "noise_path = 'noise-sample-1.wav'\n",
    "treat_audio = mamute_denoise.audio_denoise(audio_path, noise_file_path = noise_path)\n",
    "treat_audio.noise_reduce()\n",
    "treat_audio.audio_write() # writes an audio named \"nr_your_audio.wav\""
   ]
  },
  {
   "cell_type": "code",
   "execution_count": null,
   "id": "e0c0add4",
   "metadata": {},
   "outputs": [],
   "source": [
    "<audio width=\" \" height=\" \"\n",
    "       src=\"sample-1.wav\"  \n",
    "       controls>\n",
    "</audio>"
   ]
  }
 ],
 "metadata": {
  "kernelspec": {
   "display_name": "Python 3",
   "language": "python",
   "name": "python3"
  },
  "language_info": {
   "codemirror_mode": {
    "name": "ipython",
    "version": 3
   },
   "file_extension": ".py",
   "mimetype": "text/x-python",
   "name": "python",
   "nbconvert_exporter": "python",
   "pygments_lexer": "ipython3",
   "version": "3.8.10"
  }
 },
 "nbformat": 4,
 "nbformat_minor": 5
}
