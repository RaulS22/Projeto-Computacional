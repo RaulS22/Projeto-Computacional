{
 "cells": [
  {
   "cell_type": "markdown",
   "id": "23442041",
   "metadata": {},
   "source": [
    "# An example of usage "
   ]
  },
  {
   "cell_type": "markdown",
   "id": "35d32f77",
   "metadata": {},
   "source": [
    "Supose you have an audio file and you want to plot the original audio, the denoised and the comparison of them."
   ]
  },
  {
   "cell_type": "markdown",
   "id": "59aa3803",
   "metadata": {
    "scrolled": true
   },
   "source": [
    "<audio width=\" \" height=\" \"\n",
    "       src=\"sem-título-noise.wav\"  \n",
    "       controls>\n",
    "</audio>"
   ]
  },
  {
   "cell_type": "code",
   "execution_count": null,
   "id": "d173a0b5",
   "metadata": {},
   "outputs": [],
   "source": [
    "import mamute_denoise\n",
    "\n",
    "audio_file = 'sem-título-noise.wav'\n",
    "denoising = audio_denoise(audio_file)               \n",
    "denoising.wavelet_transform_1D(threshold=0.1)       \n",
    "denoising.plot_denoising(comp=True, sep=True)       \n",
    "denoising.audio_write()"
   ]
  },
  {
   "cell_type": "markdown",
   "id": "2b9cdcdf",
   "metadata": {},
   "source": [
    "<img width=\" \" height=\" \"\n",
    "       src=\"Figure_1.png\"  \n",
    "       controls>\n",
    "</img>"
   ]
  },
  {
   "cell_type": "markdown",
   "id": "29b0596c",
   "metadata": {},
   "source": [
    "<img width=\" \" height=\" \"\n",
    "       src=\"Figure_2.png\"  \n",
    "       controls>\n",
    "</img>"
   ]
  },
  {
   "cell_type": "markdown",
   "id": "526e90bb",
   "metadata": {},
   "source": [
    "<img width=\" \" height=\" \"\n",
    "       src=\"Figure_3.png\"  \n",
    "       controls>\n",
    "</img>"
   ]
  },
  {
   "cell_type": "code",
   "execution_count": null,
   "id": "038084f0",
   "metadata": {
    "scrolled": true
   },
   "outputs": [],
   "source": [
    "import mamute_denoise\n",
    "\n",
    "audio_file = 'sem-título-noise.wav'\n",
    "denoising = audio_denoise(audio_file)               \n",
    "denoising.wavelet_transform_1D(threshold=0.1)       \n",
    "denoising.plot_denoising(comp=True, sep=True)       \n",
    "denoising.audio_write()"
   ]
  },
  {
   "cell_type": "markdown",
   "id": "f5596d1d",
   "metadata": {},
   "source": [
    "If you want to combine two audio files (even if they have different lengths)."
   ]
  },
  {
   "cell_type": "markdown",
   "id": "b37b4c41",
   "metadata": {},
   "source": [
    "<audio width=\" \" height=\" \"\n",
    "       src=\"New Recording 5.wav\"  \n",
    "       controls>\n",
    "</audio>"
   ]
  },
  {
   "cell_type": "markdown",
   "id": "e869d235",
   "metadata": {},
   "source": [
    "<audio width=\" \" height=\" \"\n",
    "       src=\"sample-1.wav\"  \n",
    "       controls>\n",
    "</audio>"
   ]
  },
  {
   "cell_type": "code",
   "execution_count": null,
   "id": "fcd2dc16",
   "metadata": {
    "scrolled": false
   },
   "outputs": [],
   "source": [
    "import mamute_denoise\n",
    "\n",
    "audio1_file = \"New Recording 5.wav\"\n",
    "audio2_file = \"sample-1.wav\"\n",
    "overlayed_file = \"overlayed_test.wav\"\n",
    "\n",
    "overlay_wav_files(audio1_file, audio2_file, overlayed_file)"
   ]
  },
  {
   "cell_type": "markdown",
   "id": "def8cfe7",
   "metadata": {},
   "source": [
    "<audio width=\" \" height=\" \"\n",
    "       src=\"overlayed_test.wav\"  \n",
    "       controls>\n",
    "</audio>"
   ]
  },
  {
   "cell_type": "markdown",
   "id": "3f8b7b42",
   "metadata": {},
   "source": [
    "Now, you may want to use both noisereduce and Fourier Transform in the same audio to check wich one performed a better denoising effect."
   ]
  },
  {
   "cell_type": "markdown",
   "id": "31ee709d",
   "metadata": {},
   "source": [
    "<audio width=\" \" height=\" \"\n",
    "       src=\"noisy-sample-1.wav\"  \n",
    "       controls>\n",
    "</audio>"
   ]
  },
  {
   "cell_type": "code",
   "execution_count": null,
   "id": "44df5eed",
   "metadata": {},
   "outputs": [],
   "source": [
    "import mamute_denoise\n",
    "audio_file = 'noisy-sample-1.wav'\n",
    "denoising = audio_denoise(audio_file)\n",
    "\n",
    "denoising.fourier_transform()\n",
    "denoising.audio_write()\n",
    "\n",
    "denoising.noise_reduce()\n",
    "denoising.audio_write()"
   ]
  },
  {
   "cell_type": "markdown",
   "id": "4e686c21",
   "metadata": {},
   "source": [
    "<audio width=\" \" height=\" \"\n",
    "       src=\"fourier_noisy-sample-1.wav\"  \n",
    "       controls>\n",
    "</audio>"
   ]
  },
  {
   "cell_type": "markdown",
   "id": "37e085c3",
   "metadata": {},
   "source": [
    "<audio width=\" \" height=\" \"\n",
    "       src=\"nr_noisy-sample-1.wav\"  \n",
    "       controls>\n",
    "</audio>"
   ]
  },
  {
   "cell_type": "markdown",
   "id": "2102c173",
   "metadata": {},
   "source": [
    "Finally, if you have the noise and the noisy audio"
   ]
  },
  {
   "cell_type": "markdown",
   "id": "f2372381",
   "metadata": {},
   "source": [
    "<audio width=\" \" height=\" \"\n",
    "       src=\"noisy-sample-1.wav\"  \n",
    "       controls>\n",
    "</audio>"
   ]
  },
  {
   "cell_type": "markdown",
   "id": "193dd968",
   "metadata": {},
   "source": [
    "<audio width=\" \" height=\" \"\n",
    "       src=\"noise-sample-1.wav\"  \n",
    "       controls>\n",
    "</audio>"
   ]
  },
  {
   "cell_type": "code",
   "execution_count": null,
   "id": "50d820a8",
   "metadata": {},
   "outputs": [],
   "source": [
    "audio_path = 'noisy-sample-1.wav' \n",
    "noise_path = 'noise-sample-1.wav'\n",
    "treat_audio = mamute_denoise.audio_denoise(audio_path, noise_file_path = noise_path)\n",
    "treat_audio.noise_reduce()\n",
    "treat_audio.audio_write() # writes an audio named \"nr_your_audio.wav\""
   ]
  },
  {
   "cell_type": "markdown",
   "id": "9b477ca6",
   "metadata": {},
   "source": [
    "<audio width=\" \" height=\" \"\n",
    "       src=\"sample-1.wav\"  \n",
    "       controls>\n",
    "</audio>"
   ]
  },
  {
   "cell_type": "code",
   "execution_count": null,
   "id": "c1980c05",
   "metadata": {},
   "outputs": [],
   "source": []
  }
 ],
 "metadata": {
  "kernelspec": {
   "display_name": "Python 3",
   "language": "python",
   "name": "python3"
  },
  "language_info": {
   "codemirror_mode": {
    "name": "ipython",
    "version": 3
   },
   "file_extension": ".py",
   "mimetype": "text/x-python",
   "name": "python",
   "nbconvert_exporter": "python",
   "pygments_lexer": "ipython3",
   "version": "3.8.10"
  }
 },
 "nbformat": 4,
 "nbformat_minor": 5
}
