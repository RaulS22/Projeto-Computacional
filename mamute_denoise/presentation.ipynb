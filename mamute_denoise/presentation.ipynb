{
 "cells": [
  {
   "cell_type": "markdown",
   "id": "ee6418ab",
   "metadata": {},
   "source": [
    "# Some usage examples "
   ]
  },
  {
   "cell_type": "markdown",
   "id": "bae88ee4",
   "metadata": {},
   "source": [
    "### Supose you have an audio file and you want to plot the original audio, the denoised and the comparison of them."
   ]
  },
  {
   "cell_type": "markdown",
   "id": "f4fa1f6e",
   "metadata": {
    "scrolled": true
   },
   "source": [
    "<audio width=\" \" height=\" \"\n",
    "       src=\"sem-título-noise.wav\"  \n",
    "       controls>\n",
    "</audio>"
   ]
  },
  {
   "cell_type": "code",
   "execution_count": null,
   "id": "02dd82f1",
   "metadata": {},
   "outputs": [],
   "source": [
    "import mamute_denoise\n",
    "\n",
    "audio_file = 'sem-título-noise.wav'\n",
    "denoising = audio_denoise(audio_file)               \n",
    "denoising.wavelet_transform_1D(threshold=0.1)       \n",
    "denoising.plot_denoising(comp=True, sep=True)       \n",
    "denoising.audio_write()"
   ]
  },
  {
   "cell_type": "markdown",
   "id": "76e47064",
   "metadata": {},
   "source": [
    "<img width=\" \" height=\" \"\n",
    "       src=\"Figure_1.png\"  \n",
    "       controls>\n",
    "</img>"
   ]
  },
  {
   "cell_type": "markdown",
   "id": "80959ec0",
   "metadata": {},
   "source": [
    "<img width=\" \" height=\" \"\n",
    "       src=\"Figure_2.png\"  \n",
    "       controls>\n",
    "</img>"
   ]
  },
  {
   "cell_type": "markdown",
   "id": "ea5d42b8",
   "metadata": {},
   "source": [
    "<img width=\" \" height=\" \"\n",
    "       src=\"Figure_3.png\"  \n",
    "       controls>\n",
    "</img>"
   ]
  },
  {
   "cell_type": "markdown",
   "id": "9ba6b95a",
   "metadata": {},
   "source": [
    "### If you want to combine two audio files (even if they have different lengths)."
   ]
  },
  {
   "cell_type": "markdown",
   "id": "1e050f2f",
   "metadata": {},
   "source": [
    "<audio width=\" \" height=\" \"\n",
    "       src=\"New Recording 5.wav\"  \n",
    "       controls>\n",
    "</audio>"
   ]
  },
  {
   "cell_type": "markdown",
   "id": "9295adfa",
   "metadata": {},
   "source": [
    "<audio width=\" \" height=\" \"\n",
    "       src=\"sample-1.wav\"  \n",
    "       controls>\n",
    "</audio>"
   ]
  },
  {
   "cell_type": "code",
   "execution_count": null,
   "id": "82a16172",
   "metadata": {
    "scrolled": false
   },
   "outputs": [],
   "source": [
    "import mamute_denoise\n",
    "\n",
    "audio1_file = \"New Recording 5.wav\"\n",
    "audio2_file = \"sample-1.wav\"\n",
    "overlayed_file = \"overlayed_test.wav\"\n",
    "\n",
    "overlay_wav_files(audio1_file, audio2_file, overlayed_file)"
   ]
  },
  {
   "cell_type": "markdown",
   "id": "246f0348",
   "metadata": {},
   "source": [
    "<audio width=\" \" height=\" \"\n",
    "       src=\"overlayed_test.wav\"  \n",
    "       controls>\n",
    "</audio>"
   ]
  },
  {
   "cell_type": "markdown",
   "id": "c6274b27",
   "metadata": {},
   "source": [
    "### Now, you may want to use both noisereduce and Fourier Transform in the same audio to check wich one performed a better denoising effect."
   ]
  },
  {
   "cell_type": "markdown",
   "id": "e96876a0",
   "metadata": {},
   "source": [
    "<audio width=\" \" height=\" \"\n",
    "       src=\"noisy-sample-1.wav\"  \n",
    "       controls>\n",
    "</audio>"
   ]
  },
  {
   "cell_type": "code",
   "execution_count": null,
   "id": "0204fb31",
   "metadata": {},
   "outputs": [],
   "source": [
    "import mamute_denoise\n",
    "\n",
    "audio_file = 'noisy-sample-1.wav'\n",
    "denoising = audio_denoise(audio_file)\n",
    "\n",
    "denoising.fourier_transform()\n",
    "denoising.audio_write()\n",
    "\n",
    "denoising.noise_reduce()\n",
    "denoising.audio_write()"
   ]
  },
  {
   "cell_type": "markdown",
   "id": "5cab0ef3",
   "metadata": {},
   "source": [
    " Fourier: \n",
    "<audio width=\" \" height=\" \"\n",
    "       src=\"fourier_noisy-sample-1.wav\"  \n",
    "       controls>\n",
    "</audio>"
   ]
  },
  {
   "cell_type": "markdown",
   "id": "c59276bd",
   "metadata": {},
   "source": [
    "Noise Reduce:\n",
    "<audio width=\" \" height=\" \"\n",
    "       src=\"nr_noisy-sample-1.wav\"  \n",
    "       controls>\n",
    "</audio>"
   ]
  },
  {
   "cell_type": "markdown",
   "id": "52e0345b",
   "metadata": {},
   "source": [
    "### Finally, if you have the noise and the noisy audio"
   ]
  },
  {
   "cell_type": "markdown",
   "id": "58feef07",
   "metadata": {},
   "source": [
    "<audio width=\" \" height=\" \"\n",
    "       src=\"noisy-sample-1.wav\"  \n",
    "       controls>\n",
    "</audio>"
   ]
  },
  {
   "cell_type": "markdown",
   "id": "201c8f53",
   "metadata": {},
   "source": [
    "<audio width=\" \" height=\" \"\n",
    "       src=\"noise-sample-1.wav\"  \n",
    "       controls>\n",
    "</audio>"
   ]
  },
  {
   "cell_type": "code",
   "execution_count": null,
   "id": "4c6ba0f0",
   "metadata": {},
   "outputs": [],
   "source": [
    "import mamute_denoise\n",
    "\n",
    "audio_path = 'noisy-sample-1.wav' \n",
    "noise_path = 'noise-sample-1.wav'\n",
    "treat_audio = mamute_denoise.audio_denoise(audio_path, noise_file_path = noise_path)\n",
    "treat_audio.noise_reduce()\n",
    "treat_audio.audio_write() # writes an audio named \"nr_your_audio.wav\""
   ]
  },
  {
   "cell_type": "markdown",
   "id": "1732babe",
   "metadata": {},
   "source": [
    "<audio width=\" \" height=\" \"\n",
    "       src=\"sample-1.wav\"  \n",
    "       controls>\n",
    "</audio>"
   ]
  }
 ],
 "metadata": {
  "kernelspec": {
   "display_name": "Python 3",
   "language": "python",
   "name": "python3"
  },
  "language_info": {
   "codemirror_mode": {
    "name": "ipython",
    "version": 3
   },
   "file_extension": ".py",
   "mimetype": "text/x-python",
   "name": "python",
   "nbconvert_exporter": "python",
   "pygments_lexer": "ipython3",
   "version": "3.8.10"
  }
 },
 "nbformat": 4,
 "nbformat_minor": 5
}
